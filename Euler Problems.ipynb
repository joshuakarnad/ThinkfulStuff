{
 "cells": [
  {
   "cell_type": "code",
   "execution_count": 3,
   "metadata": {
    "collapsed": true
   },
   "outputs": [],
   "source": [
    "def multiples(num):\n",
    "    answer = 0\n",
    "    for i in range(1,num):\n",
    "        if i % 3 == 0 or i % 5 == 0:\n",
    "            answer += i\n",
    "    return answer\n",
    "        "
   ]
  },
  {
   "cell_type": "code",
   "execution_count": 4,
   "metadata": {},
   "outputs": [
    {
     "data": {
      "text/plain": [
       "23"
      ]
     },
     "execution_count": 4,
     "metadata": {},
     "output_type": "execute_result"
    }
   ],
   "source": [
    "multiples(10)"
   ]
  },
  {
   "cell_type": "code",
   "execution_count": 5,
   "metadata": {},
   "outputs": [
    {
     "data": {
      "text/plain": [
       "233168"
      ]
     },
     "execution_count": 5,
     "metadata": {},
     "output_type": "execute_result"
    }
   ],
   "source": [
    "multiples(1000)"
   ]
  },
  {
   "cell_type": "code",
   "execution_count": 33,
   "metadata": {},
   "outputs": [],
   "source": [
    "def fib():\n",
    "    answer = 0\n",
    "    seq = [1,2]\n",
    "    fib_sum = 0\n",
    "    while answer < 4000000:\n",
    "        answer = seq[-1] + seq [-2]\n",
    "        seq.append(answer)\n",
    "    for i in range(0,(len(seq) - 1)):\n",
    "        if i % 2 == 1:\n",
    "            print(seq[i])\n",
    "            fib_sum += seq[i]\n",
    "    return fib_sum"
   ]
  },
  {
   "cell_type": "code",
   "execution_count": 34,
   "metadata": {},
   "outputs": [
    {
     "name": "stdout",
     "output_type": "stream",
     "text": [
      "2\n",
      "5\n",
      "13\n",
      "34\n",
      "89\n",
      "233\n",
      "610\n",
      "1597\n",
      "4181\n",
      "10946\n",
      "28657\n",
      "75025\n",
      "196418\n",
      "514229\n",
      "1346269\n",
      "3524578\n"
     ]
    },
    {
     "data": {
      "text/plain": [
       "5702886"
      ]
     },
     "execution_count": 34,
     "metadata": {},
     "output_type": "execute_result"
    }
   ],
   "source": [
    "fib()"
   ]
  },
  {
   "cell_type": "code",
   "execution_count": null,
   "metadata": {
    "collapsed": true
   },
   "outputs": [],
   "source": []
  }
 ],
 "metadata": {
  "kernelspec": {
   "display_name": "Python 3",
   "language": "python",
   "name": "python3"
  },
  "language_info": {
   "codemirror_mode": {
    "name": "ipython",
    "version": 3
   },
   "file_extension": ".py",
   "mimetype": "text/x-python",
   "name": "python",
   "nbconvert_exporter": "python",
   "pygments_lexer": "ipython3",
   "version": "3.6.3"
  }
 },
 "nbformat": 4,
 "nbformat_minor": 2
}
