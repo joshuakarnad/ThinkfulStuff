{
 "cells": [
  {
   "cell_type": "code",
   "execution_count": 1,
   "metadata": {
    "collapsed": true
   },
   "outputs": [],
   "source": [
    "import pandas as pd\n",
    "import numpy as np\n",
    "import matplotlib.pyplot as plt\n",
    "import scipy as sp\n",
    "# import seaborn as sns\n",
    "import re\n",
    "import nltk\n",
    "from sklearn import ensemble\n",
    "from nltk.corpus import PlaintextCorpusReader\n",
    "from nltk.corpus import gutenberg, stopwords\n",
    "import string\n",
    "from sklearn.model_selection import train_test_split\n",
    "from sklearn.cluster import MeanShift, estimate_bandwidth\n",
    "from sklearn import metrics\n",
    "from sklearn.decomposition import TruncatedSVD\n",
    "from sklearn.pipeline import make_pipeline\n",
    "from sklearn.preprocessing import Normalizer\n",
    "from nltk.tokenize import word_tokenize\n",
    "from collections import Counter\n",
    "from nltk.stem.wordnet import WordNetLemmatizer\n",
    "import string\n",
    "from sklearn.feature_extraction.text import TfidfVectorizer\n",
    "from sklearn.feature_extraction.text import TfidfVectorizer\n",
    "from sklearn.decomposition import TruncatedSVD\n",
    "from sklearn.cluster import KMeans\n",
    "lmtzr= WordNetLemmatizer()\n",
    "from sklearn.cluster import AffinityPropagation\n",
    "from sklearn.cluster import MiniBatchKMeans\n",
    "from sklearn.cluster import SpectralClustering\n",
    "%matplotlib inline"
   ]
  },
  {
   "cell_type": "code",
   "execution_count": 2,
   "metadata": {},
   "outputs": [],
   "source": [
    "my_stopwords = stopwords.words('english')\n",
    "def text_cleaner(text):\n",
    "    text = re.sub(r'--',' ',text)\n",
    "    text = re.sub(r\"'\",' ',text)\n",
    "    text = re.sub(r'\"',' ',text)\n",
    "    text = re.sub(\"[\\[].*?[\\]]\", ' ', text)\n",
    "    text = ' '.join(text.split()).lower()\n",
    "    return text"
   ]
  },
  {
   "cell_type": "code",
   "execution_count": 3,
   "metadata": {},
   "outputs": [
    {
     "data": {
      "text/plain": [
       "['austen', 'shakespeare', 'milton', 'whitman']"
      ]
     },
     "execution_count": 3,
     "metadata": {},
     "output_type": "execute_result"
    }
   ],
   "source": [
    "text_list =['austen-sense.txt', 'shakespeare-hamlet.txt',\\\n",
    "            'milton-paradise.txt','whitman-leaves.txt']\n",
    "\n",
    "author_list = []\n",
    "for text in text_list: \n",
    "    author = text.split('-')[0]\n",
    "    author_list.append(author)\n",
    "author_list"
   ]
  },
  {
   "cell_type": "code",
   "execution_count": 4,
   "metadata": {
    "collapsed": true
   },
   "outputs": [],
   "source": [
    "books = []\n",
    "for i in range(len(text_list)):\n",
    "    file_name = text_list[i]\n",
    "    books_of_paragraphs = gutenberg.paras(file_name)\n",
    "    clean_paragraph = []\n",
    "    for paragraph in books_of_paragraphs:\n",
    "        \n",
    "        para = paragraph[0]\n",
    "        sentence_as_string = ' '.join(para)\n",
    "        sentence_as_string = text_cleaner(sentence_as_string).lower()\n",
    "\n",
    "        clean_paragraph.append(sentence_as_string)\n",
    "    books.append(clean_paragraph)"
   ]
  },
  {
   "cell_type": "code",
   "execution_count": 5,
   "metadata": {
    "collapsed": true
   },
   "outputs": [],
   "source": [
    "def all_the_good_stuff(tokenized_texts, include_stop=False):\n",
    "    new_txt=[]\n",
    "    for paragraph in tokenized_texts: \n",
    "        list_of_tokens = word_tokenize(paragraph)\n",
    "        processed_texts = []\n",
    "        for token in list_of_tokens: \n",
    "            if (token not in my_stopwords or include_stop) and (token not in string.punctuation): \n",
    "                processed_texts.append(token)\n",
    "               \n",
    "        if len(processed_texts) > 3:\n",
    "            new_txt.append(\" \".join(processed_texts))\n",
    "    return new_txt"
   ]
  },
  {
   "cell_type": "code",
   "execution_count": 6,
   "metadata": {},
   "outputs": [],
   "source": [
    "df = pd.DataFrame()\n",
    "for book, author in zip(books, author_list):\n",
    "\n",
    "    book = all_the_good_stuff(book, include_stop = False)\n",
    "    book = [[paragraph, author] for paragraph in book]\n",
    "    book = pd.DataFrame(book, columns = ['text','author'])\n",
    "    df = df.append(book, ignore_index = True)"
   ]
  },
  {
   "cell_type": "code",
   "execution_count": 7,
   "metadata": {},
   "outputs": [
    {
     "data": {
      "text/html": [
       "<div>\n",
       "<style>\n",
       "    .dataframe thead tr:only-child th {\n",
       "        text-align: right;\n",
       "    }\n",
       "\n",
       "    .dataframe thead th {\n",
       "        text-align: left;\n",
       "    }\n",
       "\n",
       "    .dataframe tbody tr th {\n",
       "        vertical-align: top;\n",
       "    }\n",
       "</style>\n",
       "<table border=\"1\" class=\"dataframe\">\n",
       "  <thead>\n",
       "    <tr style=\"text-align: right;\">\n",
       "      <th></th>\n",
       "      <th>text</th>\n",
       "      <th>author</th>\n",
       "    </tr>\n",
       "  </thead>\n",
       "  <tbody>\n",
       "    <tr>\n",
       "      <th>0</th>\n",
       "      <td>family dashwood long settled sussex</td>\n",
       "      <td>austen</td>\n",
       "    </tr>\n",
       "    <tr>\n",
       "      <th>1</th>\n",
       "      <td>former marriage mr henry dashwood one son pres...</td>\n",
       "      <td>austen</td>\n",
       "    </tr>\n",
       "    <tr>\n",
       "      <th>2</th>\n",
       "      <td>old gentleman died read like almost every gave...</td>\n",
       "      <td>austen</td>\n",
       "    </tr>\n",
       "    <tr>\n",
       "      <th>3</th>\n",
       "      <td>mr dashwood disappointment first severe temper...</td>\n",
       "      <td>austen</td>\n",
       "    </tr>\n",
       "    <tr>\n",
       "      <th>4</th>\n",
       "      <td>son sent soon danger known mr dashwood recomme...</td>\n",
       "      <td>austen</td>\n",
       "    </tr>\n",
       "  </tbody>\n",
       "</table>\n",
       "</div>"
      ],
      "text/plain": [
       "                                                text  author\n",
       "0                family dashwood long settled sussex  austen\n",
       "1  former marriage mr henry dashwood one son pres...  austen\n",
       "2  old gentleman died read like almost every gave...  austen\n",
       "3  mr dashwood disappointment first severe temper...  austen\n",
       "4  son sent soon danger known mr dashwood recomme...  austen"
      ]
     },
     "execution_count": 7,
     "metadata": {},
     "output_type": "execute_result"
    }
   ],
   "source": [
    "df.head()"
   ]
  },
  {
   "cell_type": "code",
   "execution_count": 8,
   "metadata": {},
   "outputs": [
    {
     "name": "stdout",
     "output_type": "stream",
     "text": [
      "Number of features: 2462\n"
     ]
    }
   ],
   "source": [
    "X = df['text']\n",
    "Y = df['author']\n",
    "\n",
    "X_train, X_test = train_test_split(X, test_size=0.25, random_state=12)\n",
    "\n",
    "vectorizer = TfidfVectorizer(max_df=0.6, # drop words that occur in more than 60% of paragraphs\n",
    "                             min_df=5,  # Words appear at least 5x\n",
    "                             stop_words='english', \n",
    "                             lowercase=True,\n",
    "                             use_idf=True,\n",
    "                             norm=u'l2',\n",
    "                             smooth_idf=True #Prevents divide-by-zero errors\n",
    "                            )\n",
    "\n",
    "#Applying the vectorizer\n",
    "para_tfidf = vectorizer.fit_transform(X)\n",
    "print(\"Number of features: %d\" % para_tfidf.get_shape()[1])\n",
    "\n",
    "X_train_tfidf, X_test_tfidf, Y_train, Y_test = train_test_split(para_tfidf, \n",
    "                                                                Y,\n",
    "                                                                test_size=0.25,\n",
    "                                                                random_state=12)"
   ]
  },
  {
   "cell_type": "code",
   "execution_count": 9,
   "metadata": {
    "collapsed": true
   },
   "outputs": [],
   "source": [
    "i_holder = []\n",
    "variances = []\n",
    "for i in range(100,500,25):\n",
    "    svd= TruncatedSVD(i)\n",
    "    lsa = make_pipeline(svd, Normalizer(copy=False))\n",
    "    # Run SVD on the training data, then project the training data.\n",
    "    X_train_lsa = lsa.fit_transform(X_train_tfidf)\n",
    "    #creating test lsa group for later\n",
    "    X_test_lsa = lsa.transform(X_test_tfidf)\n",
    "\n",
    "    variance_explained=svd.explained_variance_ratio_\n",
    "    total_variance = variance_explained.sum()\n",
    "    i_holder.append(i)\n",
    "    variances.append(total_variance)"
   ]
  },
  {
   "cell_type": "code",
   "execution_count": 10,
   "metadata": {},
   "outputs": [
    {
     "data": {
      "text/plain": [
       "<matplotlib.collections.PathCollection at 0x1a0cd7e0b8>"
      ]
     },
     "execution_count": 10,
     "metadata": {},
     "output_type": "execute_result"
    },
    {
     "data": {
      "image/png": "[encoded data removed]",
      "text/plain": [
       "<matplotlib.figure.Figure at 0x1a0cd62630>"
      ]
     },
     "metadata": {},
     "output_type": "display_data"
    }
   ],
   "source": [
    "plt.scatter(i_holder,variances)"
   ]
  },
  {
   "cell_type": "code",
   "execution_count": 11,
   "metadata": {},
   "outputs": [
    {
     "name": "stdout",
     "output_type": "stream",
     "text": [
      "Percent variance captured by all components: 49.978433734\n"
     ]
    }
   ],
   "source": [
    "# Chose 300 mostly do to the strength of my machine\n",
    "svd= TruncatedSVD(300)\n",
    "lsa = make_pipeline(svd, Normalizer(copy=False))\n",
    "# Run SVD on the training data, then project the training data.\n",
    "X_train_lsa = lsa.fit_transform(X_train_tfidf)\n",
    "#creating test lsa group for later\n",
    "X_test_lsa = lsa.transform(X_test_tfidf)\n",
    "\n",
    "variance_explained=svd.explained_variance_ratio_\n",
    "total_variance = variance_explained.sum()\n",
    "print(\"Percent variance captured by all components:\",total_variance*100)"
   ]
  },
  {
   "cell_type": "code",
   "execution_count": 14,
   "metadata": {
    "collapsed": true
   },
   "outputs": [],
   "source": [
    "# Chose 4 clusters due to 4 authors\n",
    "k_mean = KMeans(n_clusters=4, random_state=12)\n",
    "k_mean.fit(X_train_lsa)\n",
    "Y_pred = k_mean.predict(X_train_lsa)"
   ]
  },
  {
   "cell_type": "code",
   "execution_count": 15,
   "metadata": {},
   "outputs": [
    {
     "name": "stdout",
     "output_type": "stream",
     "text": [
      "col_0          0    1     2    3\n",
      "row_0                           \n",
      "austen        13  166   238  634\n",
      "milton         2    0     6    0\n",
      "shakespeare    1    0    22    0\n",
      "whitman      145    8  1234    3\n"
     ]
    }
   ],
   "source": [
    "print(pd.crosstab(Y_train.values, Y_pred))"
   ]
  },
  {
   "cell_type": "code",
   "execution_count": 16,
   "metadata": {},
   "outputs": [
    {
     "data": {
      "image/png": "[encoded data removed]",
      "text/plain": [
       "<matplotlib.figure.Figure at 0x1a0cd65d30>"
      ]
     },
     "metadata": {},
     "output_type": "display_data"
    }
   ],
   "source": [
    "plt.scatter(X_train_lsa[:, 0], X_train_lsa[:, 1], c=Y_pred)\n",
    "plt.show()"
   ]
  },
  {
   "cell_type": "code",
   "execution_count": 24,
   "metadata": {
    "scrolled": false
   },
   "outputs": [
    {
     "name": "stdout",
     "output_type": "stream",
     "text": [
      "Component 0:\n",
      "text\n",
      "marianne steadfast ever see said elinor altered                                                      0.606203\n",
      "marianne shyness excuse inattention said elinor                                                      0.556727\n",
      "boast however said elinor injustice                                                                  0.556240\n",
      "many many circumstances said elinor solemnly                                                         0.471383\n",
      "know said mrs dashwood                                                                               0.471278\n",
      "well sir said mrs                                                                                    0.468443\n",
      "elinor frightened away dislike mrs jennings said marianne least need prevent accepting invitation    0.467551\n",
      "think like said elinor know                                                                          0.465994\n",
      "well marianne said elinor soon left one morning think done pretty well                               0.457784\n",
      "go said mrs dashwood objections nonsensical                                                          0.453039\n",
      "Name: 0, dtype: float64\n",
      "Component 1:\n",
      "text\n",
      "marianne steadfast ever see said elinor altered                                                      0.428547\n",
      "boast however said elinor injustice                                                                  0.403421\n",
      "marianne shyness excuse inattention said elinor                                                      0.398176\n",
      "many many circumstances said elinor solemnly                                                         0.344876\n",
      "well sir said mrs                                                                                    0.304473\n",
      "marianne merely bowed said nothing                                                                   0.294459\n",
      "would still reserved said marianne worse                                                             0.287692\n",
      "go said mrs dashwood objections nonsensical                                                          0.286932\n",
      "pity elinor said marianne edward taste drawing                                                       0.283803\n",
      "elinor frightened away dislike mrs jennings said marianne least need prevent accepting invitation    0.280205\n",
      "Name: 1, dtype: float64\n",
      "Component 2:\n",
      "text\n",
      "indeed mrs jennings provoking                                                                                                                                                                             0.662210\n",
      "mrs jennings widow ample jointure                                                                                                                                                                         0.615849\n",
      "mrs jennings enforced necessity                                                                                                                                                                           0.596340\n",
      "wondered talked mrs jennings                                                                                                                                                                              0.581320\n",
      "many know nothing others intimate mrs jennings mrs palmer middletons                                                                                                                                      0.566352\n",
      "come relation misfortune time befell mrs john dashwood                                                                                                                                                    0.536681\n",
      "mrs jennings soon came                                                                                                                                                                                    0.523022\n",
      "come mrs jennings home                                                                                                                                                                                    0.512817\n",
      "chance proved lucky one message mrs palmer soon arrived carried mrs jennings away                                                                                                                         0.498484\n",
      "mrs dashwood prudent enough remain cottage without attempting removal delaford fortunately sir john mrs jennings marianne taken margaret reached age highly suitable dancing ineligible supposed lover    0.478697\n",
      "Name: 2, dtype: float64\n",
      "Component 3:\n",
      "text\n",
      "upon soul said know much                                                    0.666412\n",
      "whoever degrades another degrades whatever done said returns last           0.624203\n",
      "know said willoughby curricle                                               0.570479\n",
      "charming said charlotte parliament                                          0.527493\n",
      "know said mrs dashwood                                                      0.523652\n",
      "said must rub world well                                                    0.491976\n",
      "well sir said mrs                                                           0.490302\n",
      "know said even acquainted till day                                          0.447059\n",
      "well said brought strangers                                                 0.427458\n",
      "would let us know business said mrs jennings might see whether could put    0.408163\n",
      "Name: 3, dtype: float64\n"
     ]
    }
   ],
   "source": [
    "#Looking at what sorts of paragraphs our solution considers similar, for the first 10 components\n",
    "paras_by_component=pd.DataFrame(X_train_lsa,index=X_train)\n",
    "for i in range(4):\n",
    "    print('Component {}:'.format(i))\n",
    "    print(paras_by_component.loc[:,i].sort_values(ascending=False)[0:10])"
   ]
  },
  {
   "cell_type": "code",
   "execution_count": 26,
   "metadata": {},
   "outputs": [
    {
     "name": "stdout",
     "output_type": "stream",
     "text": [
      "      cluster                                               para\n",
      "1552        0  stop day night shall possess origin poems shal...\n",
      "3151        0  untold want life land ne er granted voyager sa...\n",
      "2934        0  soul always beautiful universe duly order ever...\n",
      "1828        0  tire give burdens rest chuff hand hip due time...\n",
      "2853        0  along history slopes rivulet running sinking s...\n",
      "2057        0  young man comes bearing message brother shall ...\n",
      "776         0  shall brief quitted barton last october give i...\n",
      "2100        0  live ruler life slave meet life powerful conqu...\n",
      "3024        0  yet thou living present brain heir dead old wo...\n",
      "3252        0  somehow let go yet funeral though let remain b...\n",
      "      cluster                                               para\n",
      "337         1  puzzled spend large fortune said mrs dashwood ...\n",
      "103         1  talked flannel waistcoats said marianne flanne...\n",
      "1256        1  weather settled recovered strength said take l...\n",
      "155         1  perhaps said willoughby observations may exten...\n",
      "317         1          every one said elinor passion dead leaves\n",
      "602         1  though usual anxiety happiness said elinor obv...\n",
      "399         1       mr palmer hear said laughing never sometimes\n",
      "784         1  sister hope offended said resemblance fancied ...\n",
      "750         1                           leave said elinor go bed\n",
      "955         1  part said excessively fond cottage always much...\n",
      "      cluster                                               para\n",
      "1726        2  agonies one changes garments ask wounded perso...\n",
      "1567        2  loafe grass loose stop throat words music rhym...\n",
      "2066        2  every existence idiom every thing idiom tongue...\n",
      "3023        2  3 brain new world task thine formulate modern ...\n",
      "2190        2  light shade curious sense body identity greed ...\n",
      "3240        2  greek signal flame antique records told rose h...\n",
      "2773        2  girl appoint appointment charge make preparati...\n",
      "1658        2  word faith never balks henceforward accept tim...\n",
      "2197        2      architecture look upon think white gray stone\n",
      "2536        2  wife side lies slumbering wars long head pillo...\n",
      "      cluster                                               para\n",
      "177         3                  elinor thought wisest touch point\n",
      "1195        3         remember cried willoughby received account\n",
      "1038        3  perhaps mrs jennings hopes vigorous sketch fut...\n",
      "605         3  true replied mother society separately people ...\n",
      "194         3  party formed evening going following day see f...\n",
      "1026        3  soon returned carriage mrs jennings eager info...\n",
      "193         3  grateful elinor feel lady middleton observing ...\n",
      "252         3  one evening particular week colonel brandon le...\n",
      "71          3  concluded kind invitation mr mrs john dashwood...\n",
      "987         3  next morning brought farther trial visit broth...\n"
     ]
    }
   ],
   "source": [
    "cluster_df = pd.DataFrame({'para':X_train, 'cluster':Y_pred})\n",
    "for clust in np.arange(0,4,1):\n",
    "    print(cluster_df[cluster_df['cluster'] == clust].head(10))"
   ]
  },
  {
   "cell_type": "code",
   "execution_count": 27,
   "metadata": {
    "collapsed": true
   },
   "outputs": [],
   "source": [
    "vectorizer_bow = TfidfVectorizer(max_df=0.6,\n",
    "                             min_df=5, \n",
    "                             stop_words='english', \n",
    "                             lowercase=True, \n",
    "                             use_idf=False,\n",
    "                             norm=u'l2',\n",
    "                             smooth_idf=True\n",
    "                            )\n",
    "\n",
    "sentence_bow= vectorizer_bow.fit_transform(X)\n",
    "\n",
    "\n",
    "X_train_bow, X_test_bow, Y_train, Y_test = train_test_split(sentence_bow, \n",
    "                                                                Y,\n",
    "                                                                test_size=0.25,\n",
    "                                                                random_state=1217)"
   ]
  },
  {
   "cell_type": "code",
   "execution_count": 28,
   "metadata": {
    "collapsed": true
   },
   "outputs": [],
   "source": [
    "def test_metrics(model, x, y):\n",
    "    y_pred = model.predict(x)\n",
    "    accuracy = accuracy_score(y, y_pred)\n",
    "    macro = f1_score(y, y_pred, average='macro')\n",
    "    micro = f1_score(y, y_pred, average='micro')\n",
    "    weighted = f1_score(y, y_pred, average='weighted')\n",
    "    print(model)\n",
    "    print('Accuracy:', accuracy)\n",
    "    print('F1 Macro:', macro)\n",
    "    print('F1 Micro:', micro)\n",
    "    print('F1 Weighted:', weighted)"
   ]
  },
  {
   "cell_type": "code",
   "execution_count": 32,
   "metadata": {},
   "outputs": [],
   "source": [
    "from sklearn.linear_model import LogisticRegression\n",
    "from sklearn.metrics import accuracy_score, f1_score\n",
    "\n",
    "rfc = ensemble.RandomForestClassifier()\n",
    "logistic = LogisticRegression()\n",
    "gbc = ensemble.GradientBoostingClassifier()"
   ]
  },
  {
   "cell_type": "code",
   "execution_count": 33,
   "metadata": {},
   "outputs": [
    {
     "name": "stdout",
     "output_type": "stream",
     "text": [
      "RandomForestClassifier(bootstrap=True, class_weight=None, criterion='gini',\n",
      "            max_depth=None, max_features='auto', max_leaf_nodes=None,\n",
      "            min_impurity_decrease=0.0, min_impurity_split=None,\n",
      "            min_samples_leaf=1, min_samples_split=2,\n",
      "            min_weight_fraction_leaf=0.0, n_estimators=10, n_jobs=1,\n",
      "            oob_score=False, random_state=None, verbose=0,\n",
      "            warm_start=False)\n",
      "Accuracy: 0.520631067961\n",
      "F1 Macro: 0.248952827053\n",
      "F1 Micro: 0.520631067961\n",
      "F1 Weighted: 0.511741444166\n"
     ]
    },
    {
     "name": "stderr",
     "output_type": "stream",
     "text": [
      "/Users/joshuarkarnad/anaconda3/lib/python3.6/site-packages/sklearn/metrics/classification.py:1135: UndefinedMetricWarning: F-score is ill-defined and being set to 0.0 in labels with no predicted samples.\n",
      "  'precision', 'predicted', average, warn_for)\n"
     ]
    }
   ],
   "source": [
    "rfc_tfidf = rfc.fit(X_train_tfidf, Y_train)\n",
    "test_metrics(rfc_tfidf, X_test_tfidf, Y_test)"
   ]
  },
  {
   "cell_type": "code",
   "execution_count": 34,
   "metadata": {},
   "outputs": [
    {
     "name": "stdout",
     "output_type": "stream",
     "text": [
      "RandomForestClassifier(bootstrap=True, class_weight=None, criterion='gini',\n",
      "            max_depth=None, max_features='auto', max_leaf_nodes=None,\n",
      "            min_impurity_decrease=0.0, min_impurity_split=None,\n",
      "            min_samples_leaf=1, min_samples_split=2,\n",
      "            min_weight_fraction_leaf=0.0, n_estimators=10, n_jobs=1,\n",
      "            oob_score=False, random_state=None, verbose=0,\n",
      "            warm_start=False)\n",
      "Accuracy: 0.928398058252\n",
      "F1 Macro: 0.521704759139\n",
      "F1 Micro: 0.928398058252\n",
      "F1 Weighted: 0.925170541221\n"
     ]
    },
    {
     "name": "stderr",
     "output_type": "stream",
     "text": [
      "/Users/joshuarkarnad/anaconda3/lib/python3.6/site-packages/sklearn/metrics/classification.py:1135: UndefinedMetricWarning: F-score is ill-defined and being set to 0.0 in labels with no predicted samples.\n",
      "  'precision', 'predicted', average, warn_for)\n"
     ]
    }
   ],
   "source": [
    "rfc_bow = rfc.fit(X_train_bow,Y_train)\n",
    "test_metrics(rfc_bow, X_test_bow, Y_test)"
   ]
  },
  {
   "cell_type": "code",
   "execution_count": 35,
   "metadata": {},
   "outputs": [
    {
     "name": "stdout",
     "output_type": "stream",
     "text": [
      "GradientBoostingClassifier(criterion='friedman_mse', init=None,\n",
      "              learning_rate=0.1, loss='deviance', max_depth=3,\n",
      "              max_features=None, max_leaf_nodes=None,\n",
      "              min_impurity_decrease=0.0, min_impurity_split=None,\n",
      "              min_samples_leaf=1, min_samples_split=2,\n",
      "              min_weight_fraction_leaf=0.0, n_estimators=100,\n",
      "              presort='auto', random_state=None, subsample=1.0, verbose=0,\n",
      "              warm_start=False)\n",
      "Accuracy: 0.56067961165\n",
      "F1 Macro: 0.232333236021\n",
      "F1 Micro: 0.56067961165\n",
      "F1 Weighted: 0.49845609588\n"
     ]
    }
   ],
   "source": [
    "gbc_tfidf = gbc.fit(X_train_tfidf, Y_train)\n",
    "test_metrics(gbc_tfidf, X_test_tfidf, Y_test)"
   ]
  },
  {
   "cell_type": "code",
   "execution_count": 36,
   "metadata": {},
   "outputs": [
    {
     "name": "stdout",
     "output_type": "stream",
     "text": [
      "GradientBoostingClassifier(criterion='friedman_mse', init=None,\n",
      "              learning_rate=0.1, loss='deviance', max_depth=3,\n",
      "              max_features=None, max_leaf_nodes=None,\n",
      "              min_impurity_decrease=0.0, min_impurity_split=None,\n",
      "              min_samples_leaf=1, min_samples_split=2,\n",
      "              min_weight_fraction_leaf=0.0, n_estimators=100,\n",
      "              presort='auto', random_state=None, subsample=1.0, verbose=0,\n",
      "              warm_start=False)\n",
      "Accuracy: 0.894417475728\n",
      "F1 Macro: 0.50286358733\n",
      "F1 Micro: 0.894417475728\n",
      "F1 Weighted: 0.890155299817\n"
     ]
    }
   ],
   "source": [
    "gbc_bow = gbc.fit(X_train_bow, Y_train)\n",
    "test_metrics(gbc_bow, X_test_bow, Y_test)"
   ]
  },
  {
   "cell_type": "code",
   "execution_count": null,
   "metadata": {
    "collapsed": true
   },
   "outputs": [],
   "source": []
  }
 ],
 "metadata": {
  "kernelspec": {
   "display_name": "Python 3",
   "language": "python",
   "name": "python3"
  },
  "language_info": {
   "codemirror_mode": {
    "name": "ipython",
    "version": 3
   },
   "file_extension": ".py",
   "mimetype": "text/x-python",
   "name": "python",
   "nbconvert_exporter": "python",
   "pygments_lexer": "ipython3",
   "version": "3.6.3"
  }
 },
 "nbformat": 4,
 "nbformat_minor": 2
}
